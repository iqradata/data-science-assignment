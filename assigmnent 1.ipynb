{
 "cells": [
  {
   "cell_type": "markdown",
   "id": "02e18a06-f110-4e22-b3e6-26945b545491",
   "metadata": {},
   "source": [
    "\"\"\"Q1. Create one variable containing following type of data:\n",
    "(i) string\n",
    "(ii) list\n",
    "(iii) float\n",
    "(iv) tuple\"\"\""
   ]
  },
  {
   "cell_type": "code",
   "execution_count": 15,
   "id": "b14e4d74-f9f4-4d84-b2d7-4abbddeab6e1",
   "metadata": {},
   "outputs": [
    {
     "data": {
      "text/plain": [
       "str"
      ]
     },
     "execution_count": 15,
     "metadata": {},
     "output_type": "execute_result"
    }
   ],
   "source": [
    "name=\"iqra\"\n",
    "type(name)"
   ]
  },
  {
   "cell_type": "code",
   "execution_count": 16,
   "id": "e5433256-0b14-4429-851d-5a0854c3c511",
   "metadata": {},
   "outputs": [
    {
     "data": {
      "text/plain": [
       "list"
      ]
     },
     "execution_count": 16,
     "metadata": {},
     "output_type": "execute_result"
    }
   ],
   "source": [
    "c=[1,2,3,4]\n",
    "type(c)"
   ]
  },
  {
   "cell_type": "code",
   "execution_count": 20,
   "id": "10db04f7-b705-4bd4-b4d9-c960b414b28d",
   "metadata": {},
   "outputs": [
    {
     "data": {
      "text/plain": [
       "float"
      ]
     },
     "execution_count": 20,
     "metadata": {},
     "output_type": "execute_result"
    }
   ],
   "source": [
    "d=3.4\n",
    "type(d)"
   ]
  },
  {
   "cell_type": "code",
   "execution_count": 21,
   "id": "f11adcfa-3580-4fe1-8159-11bddc5fb462",
   "metadata": {},
   "outputs": [
    {
     "data": {
      "text/plain": [
       "tuple"
      ]
     },
     "execution_count": 21,
     "metadata": {},
     "output_type": "execute_result"
    }
   ],
   "source": [
    "e=()\n",
    "type(e)"
   ]
  },
  {
   "cell_type": "markdown",
   "id": "0d044059-4102-4509-ae68-240204119d63",
   "metadata": {},
   "source": [
    "\"\"\"Q2. Given are some following variables containing data:\n",
    "(i) var1 = ‘ ‘\n",
    "(ii) var2 = ‘[ DS , ML , Python]’\n",
    "(iii) var3 = [ ‘DS’ , ’ML’ , ‘Python’ ]\n",
    "(iv) var4 = 1.\n",
    "What will be the data type of the above given variable.\"\"\""
   ]
  },
  {
   "cell_type": "code",
   "execution_count": 30,
   "id": "0b319ae9-17f3-4a65-86c5-2d971af17428",
   "metadata": {},
   "outputs": [
    {
     "data": {
      "text/plain": [
       "str"
      ]
     },
     "execution_count": 30,
     "metadata": {},
     "output_type": "execute_result"
    }
   ],
   "source": [
    "var1=''\n",
    "type(var1)"
   ]
  },
  {
   "cell_type": "code",
   "execution_count": 29,
   "id": "7a4e2859-9045-4b3f-a345-bc8a3f705c1f",
   "metadata": {},
   "outputs": [
    {
     "data": {
      "text/plain": [
       "str"
      ]
     },
     "execution_count": 29,
     "metadata": {},
     "output_type": "execute_result"
    }
   ],
   "source": [
    "var2='[DS,ML,Python]'\n",
    "type(var2)"
   ]
  },
  {
   "cell_type": "code",
   "execution_count": 26,
   "id": "2f986ac8-fe94-41e6-8b9b-3e9a4a681f46",
   "metadata": {},
   "outputs": [
    {
     "data": {
      "text/plain": [
       "list"
      ]
     },
     "execution_count": 26,
     "metadata": {},
     "output_type": "execute_result"
    }
   ],
   "source": [
    "var3=['DS','ML','Python']\n",
    "type(var3)"
   ]
  },
  {
   "cell_type": "code",
   "execution_count": null,
   "id": "eb13e881-a886-4707-9af1-c79479d52f39",
   "metadata": {},
   "outputs": [],
   "source": [
    "var4=1\n",
    "type(var4)"
   ]
  },
  {
   "cell_type": "markdown",
   "id": "5c4c5c27-6ce1-44a4-9470-f71e0bc0b778",
   "metadata": {},
   "source": [
    "Q3. Explain the use of the following operators using an example:\n",
    "(i) / = division operator ,used to divide the two numbers.It return decimal number\n",
    "(ii) %= modulo oprator used to find the  remainder\n",
    "(iii) //- used to return the quotient\n",
    "(iv)**- exponential operator\n"
   ]
  },
  {
   "cell_type": "markdown",
   "id": "854b1a37-a9f0-4bcf-ad84-18f2f8216ddc",
   "metadata": {
    "tags": []
   },
   "source": [
    "Q4. Create a list of length 10 of your choice containing multiple types of data. Using for loop print the\n",
    "element and its data type."
   ]
  },
  {
   "cell_type": "code",
   "execution_count": 14,
   "id": "e3d137f5-0ee5-4664-9e54-b29d9a18da63",
   "metadata": {},
   "outputs": [],
   "source": [
    " c=['iqra',1,2.3,23/3,'a',0.003,True,4.3333,6,'era']"
   ]
  },
  {
   "cell_type": "code",
   "execution_count": 15,
   "id": "7363e3af-00b8-479f-96b8-7e5198bdc76e",
   "metadata": {},
   "outputs": [
    {
     "name": "stdout",
     "output_type": "stream",
     "text": [
      "iqra <class 'str'>\n",
      "1 <class 'int'>\n",
      "2.3 <class 'float'>\n",
      "7.666666666666667 <class 'float'>\n",
      "a <class 'str'>\n",
      "0.003 <class 'float'>\n",
      "True <class 'bool'>\n",
      "4.3333 <class 'float'>\n",
      "6 <class 'int'>\n",
      "era <class 'str'>\n"
     ]
    }
   ],
   "source": [
    "for i in c:\n",
    "    print (i,type(i))"
   ]
  },
  {
   "cell_type": "markdown",
   "id": "da68849c-0910-4825-b5d9-be0761d415a3",
   "metadata": {},
   "source": [
    "Q5. Using a while loop, verify if the number A is purely divisible by number B and if so then how many\n",
    "times it can be divisible."
   ]
  },
  {
   "cell_type": "code",
   "execution_count": null,
   "id": "5ded737c-dfc4-4a43-82cf-bd96b0ace992",
   "metadata": {},
   "outputs": [],
   "source": [
    "A=50\n",
    "B=10\n",
    "count=0\n",
    "while A%B ==0:\n",
    "    A=A//B\n",
    "     count +=1\n",
    "if count > 0:\n",
    "    \n",
    "       print(f\"{A} is divisible by {B} and it can be divided {count} times.\")\n",
    "else :\n",
    "        print(f\"{A} is not divisible by {B}\")"
   ]
  },
  {
   "cell_type": "code",
   "execution_count": null,
   "id": "43e4d268-c2e5-41c5-ad9b-5e47ccd19bb6",
   "metadata": {},
   "outputs": [],
   "source": [
    "ques -6"
   ]
  },
  {
   "cell_type": "code",
   "execution_count": null,
   "id": "de80bb47-c78e-4917-8c60-2d07bd49c137",
   "metadata": {},
   "outputs": [],
   "source": [
    "my_list = [4, 15, 9, 8, 21, 12, 17, 6, 19, 10, 27, 33, 2, 14, 30, 18, 1, 25, 7, 11, 20, 22, 13, 3, 16]\n",
    "\n",
    "for element in my_list:\n",
    "    if element % 3 == 0:\n",
    "        print(f\"{element} is divisible by 3.\")\n",
    "    else:\n",
    "        print(f\"{element} is not divisible by 3.\")\n"
   ]
  },
  {
   "cell_type": "markdown",
   "id": "43633253-0e30-4fee-bad2-6f597e0a43ea",
   "metadata": {},
   "source": [
    "Mutable and immutable are two important concepts in programming that describe the behavior of data types when it comes to modifying their values.\n",
    "\n",
    "Immutable data types are those whose values cannot be changed after they are created. In other words, if you try to modify an immutable object, a new object will be created with the updated value, while the original object remains unchanged. Examples of immutable data types in Python include integers, floats, strings, tuples, and frozensets.Here's an example demonstrating the immutability of integers:"
   ]
  },
  {
   "cell_type": "code",
   "execution_count": null,
   "id": "3f72e328-ea50-4385-9770-b5b0df0c83b7",
   "metadata": {},
   "outputs": [],
   "source": [
    "a = 5\n",
    "print(a)  # Output: 5\n",
    "\n",
    "a += 1\n",
    "print(a)  # Output: 6\n",
    "\n",
    "\n"
   ]
  },
  {
   "cell_type": "markdown",
   "id": "455741d2-ffa5-4829-9090-b49a29652085",
   "metadata": {},
   "source": [
    "In the above example, the variable a is an integer. When we increment a by 1 with a += 1, a new integer object with the value 6 is created. The original integer object with the value 5 remains unchanged. This showcases the immutability of integers.\n",
    "\n",
    "On the other hand, mutable data types are those whose values can be modified after they are created. This means that you can directly modify the object in-place without creating a new object. Examples of mutable data types in Python include lists, dictionaries, and sets.\n",
    "\n",
    "Here's an example demonstrating the mutability of lists:"
   ]
  },
  {
   "cell_type": "code",
   "execution_count": null,
   "id": "bf3c7fc4-74f4-44cc-84f7-7313fb458e48",
   "metadata": {},
   "outputs": [],
   "source": [
    "my_list = [1, 2, 3]\n",
    "print(my_list)  # Output: [1, 2, 3]\n",
    "\n",
    "my_list.append(4)\n",
    "print(my_list)  # Output: [1, 2, 3, 4]\n",
    "\n"
   ]
  },
  {
   "cell_type": "markdown",
   "id": "14369b9a-e0b0-48ca-b198-4879c007edc3",
   "metadata": {},
   "source": [
    "In the above example, my_list is a list. When we use the append() method to add the value 4 to the list, the original list object is modified in-place, and the value 4 is added at the end. This showcases the mutability of lists.\n",
    "\n",
    "In summary, mutable data types allow modification of their values directly, while immutable data types create new objects with updated values when modified."
   ]
  }
 ],
 "metadata": {
  "kernelspec": {
   "display_name": "Python 3 (ipykernel)",
   "language": "python",
   "name": "python3"
  },
  "language_info": {
   "codemirror_mode": {
    "name": "ipython",
    "version": 3
   },
   "file_extension": ".py",
   "mimetype": "text/x-python",
   "name": "python",
   "nbconvert_exporter": "python",
   "pygments_lexer": "ipython3",
   "version": "3.10.8"
  }
 },
 "nbformat": 4,
 "nbformat_minor": 5
}
